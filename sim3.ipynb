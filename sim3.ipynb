{
 "cells": [
  {
   "cell_type": "markdown",
   "metadata": {},
   "source": [
    "effect of distribution on 'medium size' tournament"
   ]
  },
  {
   "cell_type": "code",
   "execution_count": 1,
   "metadata": {
    "collapsed": true
   },
   "outputs": [],
   "source": [
    "from tournament import Tournament, Simulation\n",
    "from random import seed\n",
    "import pandas as pd\n",
    "import numpy as np\n",
    "\n",
    "rand_var = True\n"
   ]
  },
  {
   "cell_type": "code",
   "execution_count": 2,
   "metadata": {
    "collapsed": true
   },
   "outputs": [],
   "source": [
    "# lognorm\n",
    "np.random.seed(1)\n",
    "sim = Simulation(64, 6, 500,  **{'dist': 'lognorm', 'k': 16, 'random': rand_var})\n",
    "sim.simulate()"
   ]
  },
  {
   "cell_type": "code",
   "execution_count": 3,
   "metadata": {
    "collapsed": true
   },
   "outputs": [],
   "source": [
    "# exponential\n",
    "np.random.seed(1)\n",
    "sim2 = Simulation(64, 6, 500,  **{'dist': 'exp', 'k': 16, 'random': rand_var})\n",
    "sim2.simulate()"
   ]
  },
  {
   "cell_type": "code",
   "execution_count": 4,
   "metadata": {
    "collapsed": true
   },
   "outputs": [],
   "source": [
    "# beta\n",
    "np.random.seed(1)\n",
    "sim3 = Simulation(64, 6, 500,  **{'dist': 'beta', 'k': 16, 'random': rand_var})\n",
    "sim3.simulate()"
   ]
  },
  {
   "cell_type": "code",
   "execution_count": 5,
   "metadata": {
    "collapsed": true
   },
   "outputs": [],
   "source": [
    "# gamma\n",
    "np.random.seed(1)\n",
    "sim4 = Simulation(64, 6, 500,  **{'dist': 'gamma', 'k': 16, 'random': rand_var})\n",
    "sim4.simulate()"
   ]
  },
  {
   "cell_type": "code",
   "execution_count": 6,
   "metadata": {
    "collapsed": true
   },
   "outputs": [],
   "source": [
    "# uniform\n",
    "np.random.seed(1)\n",
    "sim5 = Simulation(64, 6, 500,  **{'dist': 'unif', 'k': 16, 'random': rand_var})\n",
    "sim5.simulate()"
   ]
  },
  {
   "cell_type": "markdown",
   "metadata": {},
   "source": [
    "conglomerated results follow"
   ]
  },
  {
   "cell_type": "code",
   "execution_count": 7,
   "metadata": {},
   "outputs": [
    {
     "data": {
      "text/html": [
       "<div>\n",
       "<table border=\"1\" class=\"dataframe\">\n",
       "  <thead>\n",
       "    <tr style=\"text-align: right;\">\n",
       "      <th></th>\n",
       "      <th>undef_champ</th>\n",
       "      <th>top_champ</th>\n",
       "      <th>sq_loss</th>\n",
       "      <th>top_k_found</th>\n",
       "      <th>tau</th>\n",
       "      <th>rho</th>\n",
       "      <th>dist</th>\n",
       "    </tr>\n",
       "  </thead>\n",
       "  <tbody>\n",
       "    <tr>\n",
       "      <th>0</th>\n",
       "      <td>0.714</td>\n",
       "      <td>0.714</td>\n",
       "      <td>4.616047</td>\n",
       "      <td>0.692375</td>\n",
       "      <td>0.420907</td>\n",
       "      <td>0.560242</td>\n",
       "      <td>lognorm</td>\n",
       "    </tr>\n",
       "    <tr>\n",
       "      <th>0</th>\n",
       "      <td>0.270</td>\n",
       "      <td>0.272</td>\n",
       "      <td>4.667716</td>\n",
       "      <td>0.648625</td>\n",
       "      <td>0.419364</td>\n",
       "      <td>0.556189</td>\n",
       "      <td>exp</td>\n",
       "    </tr>\n",
       "    <tr>\n",
       "      <th>0</th>\n",
       "      <td>0.288</td>\n",
       "      <td>0.304</td>\n",
       "      <td>5.465426</td>\n",
       "      <td>0.604250</td>\n",
       "      <td>0.358100</td>\n",
       "      <td>0.478130</td>\n",
       "      <td>beta</td>\n",
       "    </tr>\n",
       "    <tr>\n",
       "      <th>0</th>\n",
       "      <td>0.474</td>\n",
       "      <td>0.484</td>\n",
       "      <td>4.610185</td>\n",
       "      <td>0.730500</td>\n",
       "      <td>0.426009</td>\n",
       "      <td>0.559503</td>\n",
       "      <td>gamma</td>\n",
       "    </tr>\n",
       "    <tr>\n",
       "      <th>0</th>\n",
       "      <td>0.520</td>\n",
       "      <td>0.528</td>\n",
       "      <td>4.836311</td>\n",
       "      <td>0.655000</td>\n",
       "      <td>0.407023</td>\n",
       "      <td>0.537539</td>\n",
       "      <td>unif</td>\n",
       "    </tr>\n",
       "  </tbody>\n",
       "</table>\n",
       "</div>"
      ],
      "text/plain": [
       "   undef_champ  top_champ   sq_loss  top_k_found       tau       rho     dist\n",
       "0        0.714      0.714  4.616047     0.692375  0.420907  0.560242  lognorm\n",
       "0        0.270      0.272  4.667716     0.648625  0.419364  0.556189      exp\n",
       "0        0.288      0.304  5.465426     0.604250  0.358100  0.478130     beta\n",
       "0        0.474      0.484  4.610185     0.730500  0.426009  0.559503    gamma\n",
       "0        0.520      0.528  4.836311     0.655000  0.407023  0.537539     unif"
      ]
     },
     "execution_count": 7,
     "metadata": {},
     "output_type": "execute_result"
    }
   ],
   "source": [
    "# mean\n",
    "res = pd.concat([pd.DataFrame(sim.get_results().mean()).transpose(),\n",
    "           pd.DataFrame(sim2.get_results().mean()).transpose(),\n",
    "           pd.DataFrame(sim3.get_results().mean()).transpose(),\n",
    "           pd.DataFrame(sim4.get_results().mean()).transpose(),\n",
    "           pd.DataFrame(sim5.get_results().mean()).transpose(),\n",
    "          ])\n",
    "res['dist'] = ['Lognormal', 'Exponential', 'Beta', 'Gamma', 'Uniform']\n",
    "res"
   ]
  },
  {
   "cell_type": "code",
   "execution_count": 8,
   "metadata": {},
   "outputs": [
    {
     "data": {
      "text/html": [
       "<div>\n",
       "<table border=\"1\" class=\"dataframe\">\n",
       "  <thead>\n",
       "    <tr style=\"text-align: right;\">\n",
       "      <th></th>\n",
       "      <th>undef_champ</th>\n",
       "      <th>top_champ</th>\n",
       "      <th>sq_loss</th>\n",
       "      <th>top_k_found</th>\n",
       "      <th>tau</th>\n",
       "      <th>rho</th>\n",
       "      <th>dist</th>\n",
       "    </tr>\n",
       "  </thead>\n",
       "  <tbody>\n",
       "    <tr>\n",
       "      <th>0</th>\n",
       "      <td>0.452342</td>\n",
       "      <td>0.452342</td>\n",
       "      <td>0.518993</td>\n",
       "      <td>0.074655</td>\n",
       "      <td>0.040669</td>\n",
       "      <td>0.049572</td>\n",
       "      <td>lognorm</td>\n",
       "    </tr>\n",
       "    <tr>\n",
       "      <th>0</th>\n",
       "      <td>0.444404</td>\n",
       "      <td>0.445436</td>\n",
       "      <td>0.508416</td>\n",
       "      <td>0.074529</td>\n",
       "      <td>0.042248</td>\n",
       "      <td>0.048255</td>\n",
       "      <td>exp</td>\n",
       "    </tr>\n",
       "    <tr>\n",
       "      <th>0</th>\n",
       "      <td>0.453285</td>\n",
       "      <td>0.460443</td>\n",
       "      <td>0.627585</td>\n",
       "      <td>0.094752</td>\n",
       "      <td>0.048651</td>\n",
       "      <td>0.060168</td>\n",
       "      <td>beta</td>\n",
       "    </tr>\n",
       "    <tr>\n",
       "      <th>0</th>\n",
       "      <td>0.499824</td>\n",
       "      <td>0.500244</td>\n",
       "      <td>0.705916</td>\n",
       "      <td>0.105407</td>\n",
       "      <td>0.055535</td>\n",
       "      <td>0.067755</td>\n",
       "      <td>gamma</td>\n",
       "    </tr>\n",
       "    <tr>\n",
       "      <th>0</th>\n",
       "      <td>0.500100</td>\n",
       "      <td>0.499715</td>\n",
       "      <td>0.763315</td>\n",
       "      <td>0.110607</td>\n",
       "      <td>0.058862</td>\n",
       "      <td>0.073601</td>\n",
       "      <td>unif</td>\n",
       "    </tr>\n",
       "  </tbody>\n",
       "</table>\n",
       "</div>"
      ],
      "text/plain": [
       "   undef_champ  top_champ   sq_loss  top_k_found       tau       rho     dist\n",
       "0     0.452342   0.452342  0.518993     0.074655  0.040669  0.049572  lognorm\n",
       "0     0.444404   0.445436  0.508416     0.074529  0.042248  0.048255      exp\n",
       "0     0.453285   0.460443  0.627585     0.094752  0.048651  0.060168     beta\n",
       "0     0.499824   0.500244  0.705916     0.105407  0.055535  0.067755    gamma\n",
       "0     0.500100   0.499715  0.763315     0.110607  0.058862  0.073601     unif"
      ]
     },
     "execution_count": 8,
     "metadata": {},
     "output_type": "execute_result"
    }
   ],
   "source": [
    "# variance\n",
    "res = pd.concat([pd.DataFrame(sim.get_results().std()).transpose(),\n",
    "           pd.DataFrame(sim2.get_results().std()).transpose(),\n",
    "           pd.DataFrame(sim3.get_results().std()).transpose(),\n",
    "           pd.DataFrame(sim4.get_results().std()).transpose(),\n",
    "           pd.DataFrame(sim5.get_results().std()).transpose(),\n",
    "          ])\n",
    "res['dist'] = ['lognorm', 'exp', 'beta', 'gamma', 'unif']\n",
    "res"
   ]
  },
  {
   "cell_type": "code",
   "execution_count": null,
   "metadata": {
    "collapsed": true
   },
   "outputs": [],
   "source": []
  }
 ],
 "metadata": {
  "anaconda-cloud": {},
  "kernelspec": {
   "display_name": "Python [conda root]",
   "language": "python",
   "name": "conda-root-py"
  },
  "language_info": {
   "codemirror_mode": {
    "name": "ipython",
    "version": 3
   },
   "file_extension": ".py",
   "mimetype": "text/x-python",
   "name": "python",
   "nbconvert_exporter": "python",
   "pygments_lexer": "ipython3",
   "version": "3.5.2"
  }
 },
 "nbformat": 4,
 "nbformat_minor": 1
}
