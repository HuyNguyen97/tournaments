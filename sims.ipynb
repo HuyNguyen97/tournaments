{
 "cells": [
  {
   "cell_type": "code",
   "execution_count": 1,
   "metadata": {
    "collapsed": true
   },
   "outputs": [],
   "source": [
    "from tournament import Tournament, Simulation\n",
    "from random import seed\n",
    "import pandas as pd\n",
    "import numpy as np\n",
    "\n",
    "which = lambda lst:list(np.where(lst)[0])"
   ]
  },
  {
   "cell_type": "code",
   "execution_count": 2,
   "metadata": {},
   "outputs": [
    {
     "data": {
      "text/plain": [
       "found_champ    0.304000\n",
       "sq_loss        1.739834\n",
       "top_k_found    0.929600\n",
       "tau            0.517414\n",
       "kendall_p      0.000263\n",
       "rho            0.666107\n",
       "spearman_p     0.000337\n",
       "dtype: float64"
      ]
     },
     "execution_count": 2,
     "metadata": {},
     "output_type": "execute_result"
    }
   ],
   "source": [
    "# small tournament\n",
    "seed(1)\n",
    "sim = Simulation(32, 5, 500, **{'dist': 'lognorm', 'k': 5})\n",
    "sim.simulate()\n",
    "sim.get_results().mean()"
   ]
  },
  {
   "cell_type": "code",
   "execution_count": 16,
   "metadata": {},
   "outputs": [
    {
     "data": {
      "text/plain": [
       "found_champ    0.000000e+00\n",
       "sq_loss        8.139648e-01\n",
       "top_k_found    6.000000e-01\n",
       "tau            3.049067e-01\n",
       "kendall_p      3.649410e-08\n",
       "rho            4.273316e-01\n",
       "spearman_p     1.304457e-09\n",
       "dtype: float64"
      ]
     },
     "execution_count": 16,
     "metadata": {},
     "output_type": "execute_result"
    }
   ],
   "source": []
  },
  {
   "cell_type": "code",
   "execution_count": 3,
   "metadata": {},
   "outputs": [
    {
     "data": {
      "text/plain": [
       "found_champ    6.220000e-01\n",
       "sq_loss        3.369847e+00\n",
       "top_k_found    9.280000e-01\n",
       "tau            5.149228e-01\n",
       "kendall_p      2.322826e-08\n",
       "rho            6.797209e-01\n",
       "spearman_p     2.843424e-08\n",
       "dtype: float64"
      ]
     },
     "execution_count": 3,
     "metadata": {},
     "output_type": "execute_result"
    }
   ],
   "source": [
    "# medium tournament\n",
    "seed(2)\n",
    "sim2 = Simulation(64, 6, 500,  **{'dist': 'lognorm', 'k': 6})\n",
    "sim2.simulate()\n",
    "sim2.get_results().mean()"
   ]
  },
  {
   "cell_type": "code",
   "execution_count": 4,
   "metadata": {
    "scrolled": true
   },
   "outputs": [
    {
     "data": {
      "text/plain": [
       "found_champ    6.620000e-01\n",
       "sq_loss        7.522336e+00\n",
       "top_k_found    9.786667e-01\n",
       "tau            4.933140e-01\n",
       "kendall_p      3.935047e-14\n",
       "rho            6.429120e-01\n",
       "spearman_p     1.326823e-13\n",
       "dtype: float64"
      ]
     },
     "execution_count": 4,
     "metadata": {},
     "output_type": "execute_result"
    }
   ],
   "source": [
    "# large tournament\n",
    "seed(3)\n",
    "sim3 = Simulation(128, 6, 500, **{'dist': 'lognorm', 'k': 6})\n",
    "sim3.simulate()\n",
    "sim3.get_results().mean()"
   ]
  },
  {
   "cell_type": "code",
   "execution_count": 10,
   "metadata": {},
   "outputs": [
    {
     "ename": "SyntaxError",
     "evalue": "invalid syntax (<ipython-input-10-f4907fba960b>, line 3)",
     "output_type": "error",
     "traceback": [
      "\u001b[0;36m  File \u001b[0;32m\"<ipython-input-10-f4907fba960b>\"\u001b[0;36m, line \u001b[0;32m3\u001b[0m\n\u001b[0;31m    sim4 = Simulation(256, 7, 500, **{'dist': 88'lognorm', 'k': 7})\u001b[0m\n\u001b[0m                                                        ^\u001b[0m\n\u001b[0;31mSyntaxError\u001b[0m\u001b[0;31m:\u001b[0m invalid syntax\n"
     ]
    }
   ],
   "source": [
    "# very large tournament\n",
    "seed(4)\n",
    "sim4 = Simulation(256, 7, 500, **{'dist': 'lognorm', 'k': 7})\n",
    "sim4.simulate()\n",
    "sim4.get_results().mean()"
   ]
  },
  {
   "cell_type": "code",
   "execution_count": 6,
   "metadata": {},
   "outputs": [
    {
     "data": {
      "text/plain": [
       "found_champ    0.308000\n",
       "sq_loss        1.778586\n",
       "top_k_found    0.924400\n",
       "tau            0.510068\n",
       "kendall_p      0.000433\n",
       "rho            0.658832\n",
       "spearman_p     0.000582\n",
       "dtype: float64"
      ]
     },
     "execution_count": 6,
     "metadata": {},
     "output_type": "execute_result"
    }
   ],
   "source": [
    "# small random pairings\n",
    "seed(1)\n",
    "sim5 = Simulation(32, 5, 500, **{'dist': 'lognorm', 'k': 5, 'random': True})\n",
    "sim5.simulate()\n",
    "sim5.get_results().mean()"
   ]
  },
  {
   "cell_type": "code",
   "execution_count": 7,
   "metadata": {},
   "outputs": [
    {
     "data": {
      "text/plain": [
       "found_champ    6.760000e-01\n",
       "sq_loss        3.347333e+00\n",
       "top_k_found    9.676000e-01\n",
       "tau            5.171318e-01\n",
       "kendall_p      7.261458e-08\n",
       "rho            6.819075e-01\n",
       "spearman_p     1.261713e-07\n",
       "dtype: float64"
      ]
     },
     "execution_count": 7,
     "metadata": {},
     "output_type": "execute_result"
    }
   ],
   "source": [
    "# medium random pairings\n",
    "seed(2)\n",
    "sim6 = Simulation(64, 6, 500, **{'dist': 'lognorm', 'k': 5, 'random': True})\n",
    "sim6.simulate()\n",
    "sim6.get_results().mean()"
   ]
  },
  {
   "cell_type": "code",
   "execution_count": 8,
   "metadata": {},
   "outputs": [
    {
     "data": {
      "text/plain": [
       "found_champ    7.120000e-01\n",
       "sq_loss        7.551230e+00\n",
       "top_k_found    9.808000e-01\n",
       "tau            4.915321e-01\n",
       "kendall_p      2.413548e-14\n",
       "rho            6.416081e-01\n",
       "spearman_p     1.010924e-13\n",
       "dtype: float64"
      ]
     },
     "execution_count": 8,
     "metadata": {},
     "output_type": "execute_result"
    }
   ],
   "source": [
    "# large random pairings\n",
    "seed(3)\n",
    "sim7 = Simulation(128, 6, 500, **{'dist': 'lognorm', 'k': 5, 'random': True})\n",
    "sim7.simulate()\n",
    "sim7.get_results().mean()"
   ]
  },
  {
   "cell_type": "code",
   "execution_count": 9,
   "metadata": {},
   "outputs": [
    {
     "data": {
      "text/plain": [
       "found_champ    6.260000e-01\n",
       "sq_loss        1.817085e+01\n",
       "top_k_found    9.280000e-01\n",
       "tau            4.271989e-01\n",
       "kendall_p      1.117031e-20\n",
       "rho            5.695887e-01\n",
       "spearman_p     1.461930e-19\n",
       "dtype: float64"
      ]
     },
     "execution_count": 9,
     "metadata": {},
     "output_type": "execute_result"
    }
   ],
   "source": [
    "# very large random pairings\n",
    "seed(4)\n",
    "sim8 = Simulation(256, 7, 500, **{'dist': 'lognorm', 'k': 5, 'random': True})\n",
    "sim8.simulate()\n",
    "sim8.get_results().mean()"
   ]
  },
  {
   "cell_type": "code",
   "execution_count": 30,
   "metadata": {},
   "outputs": [
    {
     "data": {
      "text/plain": [
       "found_champ    0.460443\n",
       "sq_loss        0.369971\n",
       "top_k_found    0.110400\n",
       "tau            0.064721\n",
       "kendall_p      0.000944\n",
       "rho            0.071306\n",
       "spearman_p     0.001212\n",
       "dtype: float64"
      ]
     },
     "execution_count": 30,
     "metadata": {},
     "output_type": "execute_result"
    }
   ],
   "source": [
    "sim.get_results().std()"
   ]
  },
  {
   "cell_type": "code",
   "execution_count": null,
   "metadata": {
    "collapsed": true
   },
   "outputs": [],
   "source": []
  }
 ],
 "metadata": {
  "anaconda-cloud": {},
  "kernelspec": {
   "display_name": "Python [conda root]",
   "language": "python",
   "name": "conda-root-py"
  },
  "language_info": {
   "codemirror_mode": {
    "name": "ipython",
    "version": 3
   },
   "file_extension": ".py",
   "mimetype": "text/x-python",
   "name": "python",
   "nbconvert_exporter": "python",
   "pygments_lexer": "ipython3",
   "version": "3.5.2"
  }
 },
 "nbformat": 4,
 "nbformat_minor": 1
}
