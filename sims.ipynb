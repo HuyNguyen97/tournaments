{
 "cells": [
  {
   "cell_type": "code",
   "execution_count": 1,
   "metadata": {
    "collapsed": true
   },
   "outputs": [],
   "source": [
    "from tournament import Tournament, Simulation\n",
    "from random import seed\n",
    "import pandas as pd\n",
    "import numpy as np\n",
    "\n",
    "which = lambda lst:list(np.where(lst)[0])"
   ]
  },
  {
   "cell_type": "code",
   "execution_count": 2,
   "metadata": {},
   "outputs": [
    {
     "data": {
      "text/plain": [
       "found_champ    0.326000\n",
       "sq_loss        1.767367\n",
       "top_k_found    0.926400\n",
       "tau            0.512162\n",
       "kendall_p      0.000427\n",
       "rho            0.660960\n",
       "spearman_p     0.000520\n",
       "dtype: float64"
      ]
     },
     "execution_count": 2,
     "metadata": {},
     "output_type": "execute_result"
    }
   ],
   "source": [
    "# small tournament\n",
    "seed(1)\n",
    "sim = Simulation(32, 5, 500, **{'dist': 'lognorm', 'k': 5})\n",
    "sim.simulate()\n",
    "sim.get_results().mean()"
   ]
  },
  {
   "cell_type": "code",
   "execution_count": 3,
   "metadata": {},
   "outputs": [
    {
     "data": {
      "text/plain": [
       "found_champ    6.460000e-01\n",
       "sq_loss        3.328490e+00\n",
       "top_k_found    9.276667e-01\n",
       "tau            5.187753e-01\n",
       "kendall_p      2.017122e-08\n",
       "rho            6.836881e-01\n",
       "spearman_p     1.593382e-08\n",
       "dtype: float64"
      ]
     },
     "execution_count": 3,
     "metadata": {},
     "output_type": "execute_result"
    }
   ],
   "source": [
    "# medium tournament\n",
    "seed(2)\n",
    "sim = Simulation(64, 6, 500,  **{'dist': 'lognorm', 'k': 6})\n",
    "sim.simulate()\n",
    "sim.get_results().mean()"
   ]
  },
  {
   "cell_type": "code",
   "execution_count": 4,
   "metadata": {
    "scrolled": true
   },
   "outputs": [
    {
     "data": {
      "text/plain": [
       "found_champ    6.960000e-01\n",
       "sq_loss        7.432367e+00\n",
       "top_k_found    9.820000e-01\n",
       "tau            4.969569e-01\n",
       "kendall_p      2.372752e-14\n",
       "rho            6.471922e-01\n",
       "spearman_p     7.003690e-14\n",
       "dtype: float64"
      ]
     },
     "execution_count": 4,
     "metadata": {},
     "output_type": "execute_result"
    }
   ],
   "source": [
    "# large tournament\n",
    "seed(3)\n",
    "sim = Simulation(128, 6, 500, **{'dist': 'lognorm', 'k': 6})\n",
    "sim.simulate()\n",
    "sim.get_results().mean()"
   ]
  },
  {
   "cell_type": "code",
   "execution_count": 5,
   "metadata": {},
   "outputs": [
    {
     "data": {
      "text/plain": [
       "found_champ    6.600000e-01\n",
       "sq_loss        1.775884e+01\n",
       "top_k_found    9.148571e-01\n",
       "tau            4.366417e-01\n",
       "kendall_p      1.779555e-21\n",
       "rho            5.791918e-01\n",
       "spearman_p     2.378790e-20\n",
       "dtype: float64"
      ]
     },
     "execution_count": 5,
     "metadata": {},
     "output_type": "execute_result"
    }
   ],
   "source": [
    "# very large tournament\n",
    "seed(4)\n",
    "sim = Simulation(256, 7, 500, **{'dist': 'lognorm', 'k': 7})\n",
    "sim.simulate()\n",
    "sim.get_results().mean()"
   ]
  }
 ],
 "metadata": {
  "anaconda-cloud": {},
  "kernelspec": {
   "display_name": "Python [conda root]",
   "language": "python",
   "name": "conda-root-py"
  },
  "language_info": {
   "codemirror_mode": {
    "name": "ipython",
    "version": 3
   },
   "file_extension": ".py",
   "mimetype": "text/x-python",
   "name": "python",
   "nbconvert_exporter": "python",
   "pygments_lexer": "ipython3",
   "version": "3.5.2"
  }
 },
 "nbformat": 4,
 "nbformat_minor": 1
}
