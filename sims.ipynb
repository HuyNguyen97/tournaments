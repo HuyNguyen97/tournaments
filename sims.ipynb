{
 "cells": [
  {
   "cell_type": "code",
   "execution_count": 23,
   "metadata": {
    "collapsed": true
   },
   "outputs": [],
   "source": [
    "from tournament import Tournament, Simulation\n",
    "import pandas as pd\n",
    "import numpy as np\n",
    "\n",
    "which = lambda lst:list(np.where(lst)[0])"
   ]
  },
  {
   "cell_type": "code",
   "execution_count": 8,
   "metadata": {},
   "outputs": [
    {
     "name": "stdout",
     "output_type": "stream",
     "text": [
      "unknown distribution provided, using lognormal\n"
     ]
    }
   ],
   "source": [
    "sim = Simulation(68, 6, 1)\n",
    "sim.simulate()\n",
    "res = sim.get_results()"
   ]
  },
  {
   "cell_type": "code",
   "execution_count": 55,
   "metadata": {
    "scrolled": true
   },
   "outputs": [
    {
     "data": {
      "text/plain": [
       "7"
      ]
     },
     "execution_count": 55,
     "metadata": {},
     "output_type": "execute_result"
    }
   ],
   "source": [
    "ranks = pd.DataFrame(data = np.transpose([res.strength.rank(ascending=False),\n",
    "                                          res.wins.rank(ascending=False),\n",
    "                                          res.wins]),\n",
    "             columns = [\"str_rank\", \"win_rank\", \"wins\"]) \n",
    "top_k = ranks.loc[ranks['str_rank'] <= 8]\n",
    "sum(top_k['wins'] >= 4)"
   ]
  },
  {
   "cell_type": "code",
   "execution_count": null,
   "metadata": {
    "collapsed": true
   },
   "outputs": [],
   "source": []
  }
 ],
 "metadata": {
  "anaconda-cloud": {},
  "kernelspec": {
   "display_name": "Python [conda root]",
   "language": "python",
   "name": "conda-root-py"
  },
  "language_info": {
   "codemirror_mode": {
    "name": "ipython",
    "version": 3
   },
   "file_extension": ".py",
   "mimetype": "text/x-python",
   "name": "python",
   "nbconvert_exporter": "python",
   "pygments_lexer": "ipython3",
   "version": "3.5.2"
  }
 },
 "nbformat": 4,
 "nbformat_minor": 1
}
