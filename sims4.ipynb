{
 "cells": [
  {
   "cell_type": "code",
   "execution_count": 1,
   "metadata": {},
   "outputs": [],
   "source": [
    "from tournament import Tournament, Simulation\n",
    "from random import seed\n",
    "import pandas as pd\n",
    "import numpy as np\n",
    "\n",
    "rand_var = True\n",
    "# dist_var = 'lognorm'\n",
    "n = 64\n",
    "\n",
    "%load_ext autoreload"
   ]
  },
  {
   "cell_type": "code",
   "execution_count": 2,
   "metadata": {
    "collapsed": true
   },
   "outputs": [],
   "source": [
    "emp_vals = pd.read_csv(\"data/bt_pi_09.csv\")"
   ]
  },
  {
   "cell_type": "markdown",
   "metadata": {},
   "source": [
    "Effect of rounds on medium size tournament, using empirical strengths."
   ]
  },
  {
   "cell_type": "code",
   "execution_count": null,
   "metadata": {},
   "outputs": [],
   "source": [
    "# 3 rounds\n",
    "sim = Simulation(n, 3, 500,  **{'strengths': emp_vals.x, 'k': 16, 'random': rand_var})\n",
    "sim.simulate()\n"
   ]
  },
  {
   "cell_type": "code",
   "execution_count": null,
   "metadata": {
    "scrolled": true
   },
   "outputs": [],
   "source": [
    "# 4 rounds\n",
    "strengths = emp_vals.sample(n)\n",
    "sim2 = Simulation(n, 4, 500,  **{'strengths': emp_vals.x, 'k': 16, 'random': rand_var})\n",
    "sim2.simulate()\n"
   ]
  },
  {
   "cell_type": "code",
   "execution_count": null,
   "metadata": {
    "collapsed": true
   },
   "outputs": [],
   "source": [
    "# 5 rounds\n",
    "strengths = emp_vals.sample(n)\n",
    "sim3 = Simulation(n, 5, 500,  **{'strengths': emp_vals.x, 'k': 16, 'random': rand_var})\n",
    "sim3.simulate()\n"
   ]
  },
  {
   "cell_type": "code",
   "execution_count": null,
   "metadata": {
    "collapsed": true
   },
   "outputs": [],
   "source": [
    "# 6 rounds\n",
    "strengths = emp_vals.sample(n)\n",
    "sim4 = Simulation(n, 6, 500,  **{'strengths': emp_vals.x, 'k': 16, 'random': rand_var})\n",
    "sim4.simulate()\n"
   ]
  },
  {
   "cell_type": "code",
   "execution_count": null,
   "metadata": {
    "collapsed": true
   },
   "outputs": [],
   "source": [
    "# 7 rounds\n",
    "strengths = emp_vals.sample(n)\n",
    "sim5 = Simulation(n, 7, 500,  **{'strengths': emp_vals.x, 'k': 16, 'random': rand_var})\n",
    "sim5.simulate()\n"
   ]
  },
  {
   "cell_type": "code",
   "execution_count": null,
   "metadata": {
    "collapsed": true
   },
   "outputs": [],
   "source": [
    "# 8 rounds\n",
    "strengths = emp_vals.sample(n)\n",
    "sim6 = Simulation(n, 8, 500,  **{'strengths': emp_vals.x, 'k': 16, 'random': rand_var})\n",
    "sim6.simulate()\n"
   ]
  },
  {
   "cell_type": "code",
   "execution_count": null,
   "metadata": {
    "collapsed": true
   },
   "outputs": [],
   "source": [
    "# 9 rounds\n",
    "strengths = emp_vals.sample(n)\n",
    "sim7 = Simulation(n, 9, 500,  **{'strengths': emp_vals.x, 'k': 16, 'random': rand_var})\n",
    "sim7.simulate()\n"
   ]
  },
  {
   "cell_type": "code",
   "execution_count": null,
   "metadata": {},
   "outputs": [],
   "source": [
    "# mean\n",
    "res = pd.concat([pd.DataFrame(sim7.get_results().mean()).transpose(),\n",
    "           pd.DataFrame(sim.get_results().mean()).transpose(),\n",
    "           pd.DataFrame(sim2.get_results().mean()).transpose(),\n",
    "           pd.DataFrame(sim3.get_results().mean()).transpose(),\n",
    "           pd.DataFrame(sim4.get_results().mean()).transpose(),\n",
    "           pd.DataFrame(sim5.get_results().mean()).transpose(),\n",
    "           pd.DataFrame(sim6.get_results().mean()).transpose(),\n",
    "          ])\n",
    "res['m'] = np.arange(3,10)\n",
    "res"
   ]
  },
  {
   "cell_type": "code",
   "execution_count": null,
   "metadata": {
    "scrolled": true
   },
   "outputs": [],
   "source": [
    "# variance\n",
    "res = pd.concat([pd.DataFrame(sim7.get_results().std()).transpose(),\n",
    "           pd.DataFrame(sim.get_results().std()).transpose(),\n",
    "           pd.DataFrame(sim2.get_results().std()).transpose(),\n",
    "           pd.DataFrame(sim3.get_results().std()).transpose(),\n",
    "           pd.DataFrame(sim4.get_results().std()).transpose(),\n",
    "           pd.DataFrame(sim5.get_results().std()).transpose(),\n",
    "           pd.DataFrame(sim6.get_results().std()).transpose(),\n",
    "          ])\n",
    "res['m'] = np.arange(3,10)\n",
    "res"
   ]
  },
  {
   "cell_type": "code",
   "execution_count": null,
   "metadata": {},
   "outputs": [],
   "source": []
  },
  {
   "cell_type": "code",
   "execution_count": null,
   "metadata": {},
   "outputs": [],
   "source": []
  },
  {
   "cell_type": "code",
   "execution_count": null,
   "metadata": {},
   "outputs": [],
   "source": []
  }
 ],
 "metadata": {
  "anaconda-cloud": {},
  "kernelspec": {
   "display_name": "Python [conda root]",
   "language": "python",
   "name": "conda-root-py"
  },
  "language_info": {
   "codemirror_mode": {
    "name": "ipython",
    "version": 3
   },
   "file_extension": ".py",
   "mimetype": "text/x-python",
   "name": "python",
   "nbconvert_exporter": "python",
   "pygments_lexer": "ipython3",
   "version": "3.5.2"
  }
 },
 "nbformat": 4,
 "nbformat_minor": 1
}
