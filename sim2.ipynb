{
 "cells": [
  {
   "cell_type": "markdown",
   "metadata": {},
   "source": [
    "effect of # of rounds on a 'medium size' tournament"
   ]
  },
  {
   "cell_type": "code",
   "execution_count": 5,
   "metadata": {},
   "outputs": [],
   "source": [
    "from tournament import Tournament, Simulation\n",
    "from random import seed\n",
    "import pandas as pd\n",
    "import numpy as np\n",
    "\n",
    "rand_var = False\n",
    "dist_var = 'lognorm'\n"
   ]
  },
  {
   "cell_type": "code",
   "execution_count": 2,
   "metadata": {},
   "outputs": [],
   "source": [
    "# 4 rounds\n",
    "sim = Simulation(64, 4, 500,  **{'dist': dist_var, 'k': 16, 'random': rand_var})\n",
    "sim.simulate()"
   ]
  },
  {
   "cell_type": "code",
   "execution_count": 3,
   "metadata": {
    "collapsed": true
   },
   "outputs": [],
   "source": [
    "# 5 rounds\n",
    "sim2 = Simulation(64, 5, 500,  **{'dist': dist_var, 'k': 16, 'random': rand_var})\n",
    "sim2.simulate()"
   ]
  },
  {
   "cell_type": "code",
   "execution_count": 4,
   "metadata": {
    "collapsed": true
   },
   "outputs": [],
   "source": [
    "# 6 rounds\n",
    "sim3 = Simulation(64, 6, 500,  **{'dist': dist_var, 'k': 16, 'random': rand_var})\n",
    "sim3.simulate()"
   ]
  },
  {
   "cell_type": "code",
   "execution_count": 5,
   "metadata": {
    "collapsed": true
   },
   "outputs": [],
   "source": [
    "# 7 rounds\n",
    "sim4 = Simulation(64, 7, 500,  **{'dist': dist_var, 'k': 16, 'random': rand_var})\n",
    "sim4.simulate()"
   ]
  },
  {
   "cell_type": "code",
   "execution_count": 6,
   "metadata": {
    "collapsed": true
   },
   "outputs": [],
   "source": [
    "# 8 rounds\n",
    "sim5 = Simulation(64, 8, 500,  **{'dist': dist_var, 'k': 16, 'random': rand_var})\n",
    "sim5.simulate()"
   ]
  },
  {
   "cell_type": "code",
   "execution_count": 7,
   "metadata": {
    "collapsed": true
   },
   "outputs": [],
   "source": [
    "# 9 rounds\n",
    "sim6 = Simulation(64, 9, 500,  **{'dist': dist_var, 'k': 16, 'random': rand_var})\n",
    "sim6.simulate()"
   ]
  },
  {
   "cell_type": "code",
   "execution_count": 8,
   "metadata": {
    "collapsed": true
   },
   "outputs": [],
   "source": [
    "# 3 rounds\n",
    "sim7 = Simulation(64, 3, 500,  **{'dist': dist_var, 'k': 16, 'random': rand_var})\n",
    "sim7.simulate()"
   ]
  },
  {
   "cell_type": "markdown",
   "metadata": {},
   "source": [
    "conglomerated results follow"
   ]
  },
  {
   "cell_type": "code",
   "execution_count": 9,
   "metadata": {},
   "outputs": [
    {
     "data": {
      "text/html": [
       "<div>\n",
       "<table border=\"1\" class=\"dataframe\">\n",
       "  <thead>\n",
       "    <tr style=\"text-align: right;\">\n",
       "      <th></th>\n",
       "      <th>undef_champ</th>\n",
       "      <th>top_champ</th>\n",
       "      <th>sq_loss</th>\n",
       "      <th>top_k_found</th>\n",
       "      <th>tau</th>\n",
       "      <th>rho</th>\n",
       "      <th>m</th>\n",
       "    </tr>\n",
       "  </thead>\n",
       "  <tbody>\n",
       "    <tr>\n",
       "      <th>0</th>\n",
       "      <td>0.772</td>\n",
       "      <td>0.772</td>\n",
       "      <td>4.432994</td>\n",
       "      <td>0.983125</td>\n",
       "      <td>0.443935</td>\n",
       "      <td>0.567687</td>\n",
       "      <td>3</td>\n",
       "    </tr>\n",
       "    <tr>\n",
       "      <th>0</th>\n",
       "      <td>0.742</td>\n",
       "      <td>0.742</td>\n",
       "      <td>4.746862</td>\n",
       "      <td>0.905625</td>\n",
       "      <td>0.420329</td>\n",
       "      <td>0.542798</td>\n",
       "      <td>4</td>\n",
       "    </tr>\n",
       "    <tr>\n",
       "      <th>0</th>\n",
       "      <td>0.276</td>\n",
       "      <td>0.276</td>\n",
       "      <td>4.152149</td>\n",
       "      <td>0.810375</td>\n",
       "      <td>0.458546</td>\n",
       "      <td>0.603038</td>\n",
       "      <td>5</td>\n",
       "    </tr>\n",
       "    <tr>\n",
       "      <th>0</th>\n",
       "      <td>0.656</td>\n",
       "      <td>0.656</td>\n",
       "      <td>3.645067</td>\n",
       "      <td>0.796750</td>\n",
       "      <td>0.500282</td>\n",
       "      <td>0.653666</td>\n",
       "      <td>6</td>\n",
       "    </tr>\n",
       "    <tr>\n",
       "      <th>0</th>\n",
       "      <td>0.546</td>\n",
       "      <td>0.552</td>\n",
       "      <td>3.199112</td>\n",
       "      <td>0.724875</td>\n",
       "      <td>0.531827</td>\n",
       "      <td>0.696854</td>\n",
       "      <td>7</td>\n",
       "    </tr>\n",
       "    <tr>\n",
       "      <th>0</th>\n",
       "      <td>0.336</td>\n",
       "      <td>0.344</td>\n",
       "      <td>3.898398</td>\n",
       "      <td>0.643500</td>\n",
       "      <td>0.480078</td>\n",
       "      <td>0.631022</td>\n",
       "      <td>8</td>\n",
       "    </tr>\n",
       "    <tr>\n",
       "      <th>0</th>\n",
       "      <td>0.118</td>\n",
       "      <td>0.124</td>\n",
       "      <td>4.018647</td>\n",
       "      <td>0.612750</td>\n",
       "      <td>0.466516</td>\n",
       "      <td>0.620307</td>\n",
       "      <td>9</td>\n",
       "    </tr>\n",
       "  </tbody>\n",
       "</table>\n",
       "</div>"
      ],
      "text/plain": [
       "   undef_champ  top_champ   sq_loss  top_k_found       tau       rho  m\n",
       "0        0.772      0.772  4.432994     0.983125  0.443935  0.567687  3\n",
       "0        0.742      0.742  4.746862     0.905625  0.420329  0.542798  4\n",
       "0        0.276      0.276  4.152149     0.810375  0.458546  0.603038  5\n",
       "0        0.656      0.656  3.645067     0.796750  0.500282  0.653666  6\n",
       "0        0.546      0.552  3.199112     0.724875  0.531827  0.696854  7\n",
       "0        0.336      0.344  3.898398     0.643500  0.480078  0.631022  8\n",
       "0        0.118      0.124  4.018647     0.612750  0.466516  0.620307  9"
      ]
     },
     "execution_count": 9,
     "metadata": {},
     "output_type": "execute_result"
    }
   ],
   "source": [
    "# mean\n",
    "res = pd.concat([pd.DataFrame(sim7.get_results().mean()).transpose(),\n",
    "           pd.DataFrame(sim.get_results().mean()).transpose(),\n",
    "           pd.DataFrame(sim2.get_results().mean()).transpose(),\n",
    "           pd.DataFrame(sim3.get_results().mean()).transpose(),\n",
    "           pd.DataFrame(sim4.get_results().mean()).transpose(),\n",
    "           pd.DataFrame(sim5.get_results().mean()).transpose(),\n",
    "           pd.DataFrame(sim6.get_results().mean()).transpose(),\n",
    "          ])\n",
    "res['m'] = np.arange(3,10)\n",
    "res"
   ]
  },
  {
   "cell_type": "code",
   "execution_count": 10,
   "metadata": {},
   "outputs": [
    {
     "data": {
      "text/html": [
       "<div>\n",
       "<table border=\"1\" class=\"dataframe\">\n",
       "  <thead>\n",
       "    <tr style=\"text-align: right;\">\n",
       "      <th></th>\n",
       "      <th>undef_champ</th>\n",
       "      <th>top_champ</th>\n",
       "      <th>sq_loss</th>\n",
       "      <th>top_k_found</th>\n",
       "      <th>tau</th>\n",
       "      <th>rho</th>\n",
       "      <th>m</th>\n",
       "    </tr>\n",
       "  </thead>\n",
       "  <tbody>\n",
       "    <tr>\n",
       "      <th>0</th>\n",
       "      <td>0.419963</td>\n",
       "      <td>0.419963</td>\n",
       "      <td>0.647864</td>\n",
       "      <td>0.030719</td>\n",
       "      <td>0.053783</td>\n",
       "      <td>0.063878</td>\n",
       "      <td>3</td>\n",
       "    </tr>\n",
       "    <tr>\n",
       "      <th>0</th>\n",
       "      <td>0.437972</td>\n",
       "      <td>0.437972</td>\n",
       "      <td>0.565570</td>\n",
       "      <td>0.060975</td>\n",
       "      <td>0.047229</td>\n",
       "      <td>0.054512</td>\n",
       "      <td>4</td>\n",
       "    </tr>\n",
       "    <tr>\n",
       "      <th>0</th>\n",
       "      <td>0.447464</td>\n",
       "      <td>0.447464</td>\n",
       "      <td>0.523658</td>\n",
       "      <td>0.067985</td>\n",
       "      <td>0.043780</td>\n",
       "      <td>0.049978</td>\n",
       "      <td>5</td>\n",
       "    </tr>\n",
       "    <tr>\n",
       "      <th>0</th>\n",
       "      <td>0.475517</td>\n",
       "      <td>0.475517</td>\n",
       "      <td>0.407531</td>\n",
       "      <td>0.063817</td>\n",
       "      <td>0.037171</td>\n",
       "      <td>0.038544</td>\n",
       "      <td>6</td>\n",
       "    </tr>\n",
       "    <tr>\n",
       "      <th>0</th>\n",
       "      <td>0.498378</td>\n",
       "      <td>0.497787</td>\n",
       "      <td>0.375167</td>\n",
       "      <td>0.089716</td>\n",
       "      <td>0.034282</td>\n",
       "      <td>0.035533</td>\n",
       "      <td>7</td>\n",
       "    </tr>\n",
       "    <tr>\n",
       "      <th>0</th>\n",
       "      <td>0.472812</td>\n",
       "      <td>0.475517</td>\n",
       "      <td>0.436709</td>\n",
       "      <td>0.087058</td>\n",
       "      <td>0.037720</td>\n",
       "      <td>0.041243</td>\n",
       "      <td>8</td>\n",
       "    </tr>\n",
       "    <tr>\n",
       "      <th>0</th>\n",
       "      <td>0.322931</td>\n",
       "      <td>0.329912</td>\n",
       "      <td>0.387811</td>\n",
       "      <td>0.096873</td>\n",
       "      <td>0.033620</td>\n",
       "      <td>0.036575</td>\n",
       "      <td>9</td>\n",
       "    </tr>\n",
       "  </tbody>\n",
       "</table>\n",
       "</div>"
      ],
      "text/plain": [
       "   undef_champ  top_champ   sq_loss  top_k_found       tau       rho  m\n",
       "0     0.419963   0.419963  0.647864     0.030719  0.053783  0.063878  3\n",
       "0     0.437972   0.437972  0.565570     0.060975  0.047229  0.054512  4\n",
       "0     0.447464   0.447464  0.523658     0.067985  0.043780  0.049978  5\n",
       "0     0.475517   0.475517  0.407531     0.063817  0.037171  0.038544  6\n",
       "0     0.498378   0.497787  0.375167     0.089716  0.034282  0.035533  7\n",
       "0     0.472812   0.475517  0.436709     0.087058  0.037720  0.041243  8\n",
       "0     0.322931   0.329912  0.387811     0.096873  0.033620  0.036575  9"
      ]
     },
     "execution_count": 10,
     "metadata": {},
     "output_type": "execute_result"
    }
   ],
   "source": [
    "# variance\n",
    "res = pd.concat([pd.DataFrame(sim7.get_results().std()).transpose(),\n",
    "           pd.DataFrame(sim.get_results().std()).transpose(),\n",
    "           pd.DataFrame(sim2.get_results().std()).transpose(),\n",
    "           pd.DataFrame(sim3.get_results().std()).transpose(),\n",
    "           pd.DataFrame(sim4.get_results().std()).transpose(),\n",
    "           pd.DataFrame(sim5.get_results().std()).transpose(),\n",
    "           pd.DataFrame(sim6.get_results().std()).transpose(),\n",
    "          ])\n",
    "res['m'] = np.arange(3,10)\n",
    "res"
   ]
  },
  {
   "cell_type": "code",
   "execution_count": 6,
   "metadata": {},
   "outputs": [
    {
     "data": {
      "text/plain": [
       "array([  0.84192663,   1.6646148 ,   0.45040009,   0.79637022,\n",
       "         1.76115542,   0.26459327,   0.40077729,   1.97152584,\n",
       "         0.2364461 ,   1.19127803,   2.16468721,   4.16891476,\n",
       "         2.65711985,   1.4302339 ,   4.35578885,   0.7278559 ,\n",
       "         0.24900462,   1.2301609 ,   0.3129969 ,   1.26796817,\n",
       "         4.88391949,   0.39324813,   0.77742417,   1.55075187,\n",
       "         4.97441868,   0.65869125,   0.43104527,   2.65221887,\n",
       "         2.06166134,   3.47165154,   1.93001238,  10.80622409,\n",
       "         0.39979502,   1.11648403,   2.28681449,   0.2792395 ,\n",
       "         0.24670869,   1.55807325,   1.121317  ,   1.57368061,\n",
       "         0.51381403,   2.29532666,   0.88814032,   1.57103626,\n",
       "         0.63234614,   2.42415676,   0.04713133,   2.85345766,\n",
       "         1.16155433,   0.48594449,   1.30006201,   0.79628471,\n",
       "         1.34361271,   0.8887779 ,   8.06542621,   0.50199591,\n",
       "         3.68747174,   0.57539813,   4.91743052,   0.77436488,\n",
       "         1.04824019,   0.38843317,   0.63467322,   0.85848733])"
      ]
     },
     "execution_count": 6,
     "metadata": {},
     "output_type": "execute_result"
    }
   ],
   "source": []
  }
 ],
 "metadata": {
  "anaconda-cloud": {},
  "kernelspec": {
   "display_name": "Python [conda root]",
   "language": "python",
   "name": "conda-root-py"
  },
  "language_info": {
   "codemirror_mode": {
    "name": "ipython",
    "version": 3
   },
   "file_extension": ".py",
   "mimetype": "text/x-python",
   "name": "python",
   "nbconvert_exporter": "python",
   "pygments_lexer": "ipython3",
   "version": "3.5.2"
  }
 },
 "nbformat": 4,
 "nbformat_minor": 1
}
