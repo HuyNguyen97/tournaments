{
 "cells": [
  {
   "cell_type": "code",
   "execution_count": 1,
   "metadata": {
    "collapsed": true
   },
   "outputs": [],
   "source": [
    "from tournament import Tournament, Simulation\n",
    "from random import seed\n",
    "import pandas as pd\n",
    "import numpy as np\n",
    "\n",
    "rand_var = True\n",
    "# dist_var = 'lognorm'\n",
    "n = 64"
   ]
  },
  {
   "cell_type": "code",
   "execution_count": null,
   "metadata": {
    "collapsed": true
   },
   "outputs": [],
   "source": [
    "emp_vals = pd.read_csv(\"data/bt_pi_09.csv\")"
   ]
  },
  {
   "cell_type": "markdown",
   "metadata": {},
   "source": [
    "Effect of rounds on medium size tournament, using empirical strengths."
   ]
  },
  {
   "cell_type": "code",
   "execution_count": null,
   "metadata": {},
   "outputs": [],
   "source": [
    "# small\n",
    "sim = Simulation(32, 6, 500,  **{'strengths': emp_vals.x, 'k': 8, 'random': rand_var})\n",
    "sim.simulate()\n"
   ]
  },
  {
   "cell_type": "code",
   "execution_count": null,
   "metadata": {
    "collapsed": true,
    "scrolled": true
   },
   "outputs": [],
   "source": [
    "# medium\n",
    "sim2 = Simulation(64, 6, 500,  **{'strengths': emp_vals.x, 'k': 16, 'random': rand_var})\n",
    "sim2.simulate()\n"
   ]
  },
  {
   "cell_type": "code",
   "execution_count": null,
   "metadata": {
    "collapsed": true
   },
   "outputs": [],
   "source": [
    "# large\n",
    "sim3 = Simulation(128, 6, 500,  **{'strengths': emp_vals.x, 'k': 32, 'random': rand_var})\n",
    "sim3.simulate()\n"
   ]
  },
  {
   "cell_type": "code",
   "execution_count": null,
   "metadata": {
    "collapsed": true
   },
   "outputs": [],
   "source": [
    "# huge\n",
    "sim4 = Simulation(256, 6, 500,  **{'strengths': emp_vals.x, 'k': 64, 'random': rand_var})\n",
    "sim4.simulate()\n"
   ]
  },
  {
   "cell_type": "code",
   "execution_count": null,
   "metadata": {},
   "outputs": [],
   "source": [
    "# mean\n",
    "res = pd.concat([\n",
    "           pd.DataFrame(sim.get_results().mean()).transpose(),\n",
    "           pd.DataFrame(sim2.get_results().mean()).transpose(),\n",
    "           pd.DataFrame(sim3.get_results().mean()).transpose(),\n",
    "           pd.DataFrame(sim4.get_results().mean()).transpose()\n",
    "          ])\n",
    "res['n'] = ['32','64','128','256']\n",
    "res"
   ]
  },
  {
   "cell_type": "code",
   "execution_count": null,
   "metadata": {
    "collapsed": true
   },
   "outputs": [],
   "source": [
    "# variance\n",
    "res = pd.concat([\n",
    "           pd.DataFrame(sim.get_results().std()).transpose(),\n",
    "           pd.DataFrame(sim2.get_results().std()).transpose(),\n",
    "           pd.DataFrame(sim3.get_results().std()).transpose(),\n",
    "           pd.DataFrame(sim4.get_results().std()).transpose()\n",
    "          ])\n",
    "res['n'] = ['32','64','128','256']\n",
    "res"
   ]
  }
 ],
 "metadata": {
  "anaconda-cloud": {},
  "kernelspec": {
   "display_name": "Python [conda root]",
   "language": "python",
   "name": "conda-root-py"
  },
  "language_info": {
   "codemirror_mode": {
    "name": "ipython",
    "version": 3
   },
   "file_extension": ".py",
   "mimetype": "text/x-python",
   "name": "python",
   "nbconvert_exporter": "python",
   "pygments_lexer": "ipython3",
   "version": "3.5.2"
  }
 },
 "nbformat": 4,
 "nbformat_minor": 1
}
